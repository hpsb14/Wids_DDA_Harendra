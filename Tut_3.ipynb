{
 "cells": [
  {
   "cell_type": "code",
   "execution_count": 1,
   "id": "6cd4784f",
   "metadata": {},
   "outputs": [],
   "source": [
    "import numpy as np"
   ]
  },
  {
   "cell_type": "code",
   "execution_count": 2,
   "id": "72ef4aad",
   "metadata": {},
   "outputs": [
    {
     "name": "stdout",
     "output_type": "stream",
     "text": [
      "sin(p/2) = 1.0)\n",
      "exp(2) = 7.38905609893065\n"
     ]
    }
   ],
   "source": [
    "print(f\"sin(p/2) = {np.sin(np.pi/2)})\")\n",
    "print(f\"exp(2) = {np.exp(2)}\")\n"
   ]
  },
  {
   "cell_type": "code",
   "execution_count": 3,
   "id": "9fa29437",
   "metadata": {},
   "outputs": [
    {
     "name": "stdout",
     "output_type": "stream",
     "text": [
      "Mean of [ 0  1  2  3  4  5  6  7  8  9 10 11 12 13 14 15 16 17 18 19] is 9.5\n"
     ]
    }
   ],
   "source": [
    "arr = np.arange(20)\n",
    "print(f\"Mean of {arr} is {np.mean(arr)}\")"
   ]
  },
  {
   "cell_type": "code",
   "execution_count": 8,
   "id": "9241d4de",
   "metadata": {},
   "outputs": [
    {
     "name": "stdout",
     "output_type": "stream",
     "text": [
      "Hello world\n"
     ]
    }
   ],
   "source": [
    "def my_print():\n",
    "    print(\"Hello world\")\n",
    "my_print()"
   ]
  },
  {
   "cell_type": "code",
   "execution_count": 10,
   "id": "b760da97",
   "metadata": {},
   "outputs": [
    {
     "name": "stdout",
     "output_type": "stream",
     "text": [
      "4\n"
     ]
    }
   ],
   "source": [
    "def square(x):\n",
    "    return x**2\n",
    "print(square(2))"
   ]
  },
  {
   "cell_type": "code",
   "execution_count": 33,
   "id": "620e4347",
   "metadata": {},
   "outputs": [
    {
     "name": "stdout",
     "output_type": "stream",
     "text": [
      "[ 2  4  6  8 10 12 14 16 18]\n",
      "185794560\n"
     ]
    }
   ],
   "source": [
    "def product(array):\n",
    "    product = 1\n",
    "    for i in range(array.size):\n",
    "        product  = product*array[i]\n",
    "    return product\n",
    "my_array = np.arange(2,20,2)\n",
    "print(my_array)\n",
    "print(product(my_array))"
   ]
  },
  {
   "cell_type": "code",
   "execution_count": 34,
   "id": "11c8c894",
   "metadata": {},
   "outputs": [
    {
     "name": "stdout",
     "output_type": "stream",
     "text": [
      "25\n",
      "125\n",
      "(25, 125)\n"
     ]
    }
   ],
   "source": [
    "def powers(x):\n",
    "    return x**2, x**3\n",
    "\n",
    "squa, cube = powers(5) #unpacking\n",
    "square_and_cube = powers(5)\n",
    "print(squa)\n",
    "print(cube)\n",
    "print(square_and_cube)"
   ]
  },
  {
   "cell_type": "code",
   "execution_count": 2,
   "id": "9f1394fc",
   "metadata": {},
   "outputs": [],
   "source": [
    "serialno, objra, objdec, redshift = np.loadtxt('galaxies.csv', delimiter = ',', unpack=True)\n"
   ]
  },
  {
   "cell_type": "code",
   "execution_count": 4,
   "id": "b2ecb5ca",
   "metadata": {},
   "outputs": [
    {
     "name": "stdout",
     "output_type": "stream",
     "text": [
      "Number of Galaxies observed by MaNGA b/w 200 Mpc and 210 is <function count_galaxies at 0x0000017C7F973A60>\n"
     ]
    }
   ],
   "source": [
    "H0 = 70\n",
    "c = 3E5\n",
    "\n",
    "def distance_from_z(z):\n",
    "    return z*c/H0\n",
    "\n",
    "def get_distance(num):\n",
    "    index = np.where(serialno == num)[0][0]\n",
    "    return distance_fromz(redshift[index])\n",
    "\n",
    "def distance_to_z(distance):\n",
    "    return H0*distance/c\n",
    "\n",
    "def count_galaxies(distance1, distance2):\n",
    "    z1 = distance_to_z(distance1)\n",
    "    z2 = distance_to_z(distance2)\n",
    "    indices = np.where(np.logical_and(redshift>=z1, redshift<=z2))\n",
    "    return len(indices[0])\n",
    "\n",
    "dist1 = 200\n",
    "dist2 = 210\n",
    "print(f\"Number of Galaxies observed by MaNGA b/w {dist1} Mpc and {dist2} is {count_galaxies}\")"
   ]
  },
  {
   "cell_type": "code",
   "execution_count": 5,
   "id": "17fc183d",
   "metadata": {},
   "outputs": [
    {
     "name": "stdout",
     "output_type": "stream",
     "text": [
      "120\n"
     ]
    }
   ],
   "source": [
    "def factorial(num):\n",
    "    if (num==1):\n",
    "        return 1\n",
    "    else:\n",
    "        return num*factorial(num-1)\n",
    "    \n",
    "print(factorial(5))"
   ]
  },
  {
   "cell_type": "code",
   "execution_count": null,
   "id": "e04c8cee",
   "metadata": {},
   "outputs": [],
   "source": []
  }
 ],
 "metadata": {
  "kernelspec": {
   "display_name": "Python 3 (ipykernel)",
   "language": "python",
   "name": "python3"
  },
  "language_info": {
   "codemirror_mode": {
    "name": "ipython",
    "version": 3
   },
   "file_extension": ".py",
   "mimetype": "text/x-python",
   "name": "python",
   "nbconvert_exporter": "python",
   "pygments_lexer": "ipython3",
   "version": "3.9.13"
  }
 },
 "nbformat": 4,
 "nbformat_minor": 5
}
