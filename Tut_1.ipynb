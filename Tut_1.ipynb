{
 "cells": [
  {
   "cell_type": "code",
   "execution_count": 1,
   "id": "d3f72dc8",
   "metadata": {},
   "outputs": [
    {
     "name": "stdout",
     "output_type": "stream",
     "text": [
      "The first thing we shall do is say\n",
      " Hello World!\n"
     ]
    }
   ],
   "source": [
    "print(\"The first thing we shall do is say\\nHello World!\")"
   ]
  },
  {
   "cell_type": "code",
   "execution_count": 2,
   "id": "c4560bf9",
   "metadata": {},
   "outputs": [
    {
     "name": "stdout",
     "output_type": "stream",
     "text": [
      "Hello world \n",
      "\n"
     ]
    }
   ],
   "source": [
    "print(\"Hello world \\n\") #comment"
   ]
  },
  {
   "cell_type": "code",
   "execution_count": 3,
   "id": "dbe24150",
   "metadata": {},
   "outputs": [
    {
     "name": "stdout",
     "output_type": "stream",
     "text": [
      "Hello, my name is Krittika\n",
      "Hello, my name isKrittika\n",
      "Hello, my name is Krittika\n"
     ]
    }
   ],
   "source": [
    "name = \"Krittika\"\n",
    "print(\"Hello, my name is %s\"% name)\n",
    "print(\"Hello, my name is{}\".format(name))\n",
    "print(f\"Hello, my name is {name}\") "
   ]
  },
  {
   "cell_type": "code",
   "execution_count": 4,
   "id": "02e21e54",
   "metadata": {},
   "outputs": [],
   "source": [
    "name = \"Krittika, The Astronomy Club of IIT Bombay\""
   ]
  },
  {
   "cell_type": "code",
   "execution_count": 8,
   "id": "a54f606e",
   "metadata": {},
   "outputs": [
    {
     "name": "stdout",
     "output_type": "stream",
     "text": [
      "<class 'complex'>\n",
      "<class 'float'>\n",
      "<class 'bool'>\n",
      "<class 'int'>\n"
     ]
    }
   ],
   "source": [
    "integer = 1\n",
    "floating_point = 3.14\n",
    "complex_number = 3 + 4j\n",
    "boolean_variable = True\n",
    "print(f'{type(complex_number)}')\n",
    "print(f'{type(floating_point)}')\n",
    "print(f'{type(boolean_variable)}')\n",
    "print(type(integer))\n"
   ]
  },
  {
   "cell_type": "code",
   "execution_count": 12,
   "id": "18a100fb",
   "metadata": {},
   "outputs": [
    {
     "name": "stdout",
     "output_type": "stream",
     "text": [
      "3\n",
      "a+b = 3\n",
      "1\n"
     ]
    }
   ],
   "source": [
    "a = 1\n",
    "b = 2\n",
    "print(a+b)\n",
    "print(\"a+b = {}\".format(a+b))\n",
    "print(a**b)"
   ]
  },
  {
   "cell_type": "code",
   "execution_count": 14,
   "id": "4cd2273a",
   "metadata": {},
   "outputs": [
    {
     "name": "stdout",
     "output_type": "stream",
     "text": [
      "('a', 'c', 'z', 1, 5, 99, 'sexy')\n"
     ]
    }
   ],
   "source": [
    "tuple1=('a', 'c', 'z', 1, 5, 99, \"sexy\")\n",
    "print(tuple1)"
   ]
  },
  {
   "cell_type": "code",
   "execution_count": 16,
   "id": "d132fc6e",
   "metadata": {},
   "outputs": [
    {
     "name": "stdout",
     "output_type": "stream",
     "text": [
      "('c', 'z', 1, 5)\n"
     ]
    }
   ],
   "source": [
    "print(tuple1[1:5])\n"
   ]
  },
  {
   "cell_type": "code",
   "execution_count": 1,
   "id": "2864a120",
   "metadata": {},
   "outputs": [
    {
     "name": "stdout",
     "output_type": "stream",
     "text": [
      "[[1, 2, 3], ['a', 'b', 'c'], ['astro', 'cosma'], 8, 99]\n"
     ]
    }
   ],
   "source": [
    "nested = [[1, 2, 3], ['a', 'b', 'c'], ['astro', 'cosma'], 8, 99]\n",
    "print(nested)"
   ]
  },
  {
   "cell_type": "code",
   "execution_count": 4,
   "id": "e20116df",
   "metadata": {},
   "outputs": [
    {
     "name": "stdout",
     "output_type": "stream",
     "text": [
      "[[1, 2, 3], 'number', ['astro', 'cosma'], 8, 99]\n"
     ]
    }
   ],
   "source": [
    "nested[1] = 'number'\n",
    "print(nested)"
   ]
  },
  {
   "cell_type": "code",
   "execution_count": 6,
   "id": "7532b670",
   "metadata": {},
   "outputs": [
    {
     "name": "stdout",
     "output_type": "stream",
     "text": [
      "[[1, 2, 3], 'number', ['astro', 'cosma'], 8, 99, ['pluto', 'jupiter']]\n"
     ]
    }
   ],
   "source": [
    "nested.append(['pluto', 'jupiter'])\n",
    "print(nested)"
   ]
  },
  {
   "cell_type": "code",
   "execution_count": 8,
   "id": "fa14fab7",
   "metadata": {},
   "outputs": [
    {
     "name": "stdout",
     "output_type": "stream",
     "text": [
      "[[1, 2, 3], 'number', ['astro', 'cosma'], 8, 99]\n"
     ]
    }
   ],
   "source": [
    "nested.remove(['pluto', 'jupiter'])\n",
    "print(nested)"
   ]
  },
  {
   "cell_type": "code",
   "execution_count": 10,
   "id": "f019df4d",
   "metadata": {},
   "outputs": [
    {
     "name": "stdout",
     "output_type": "stream",
     "text": [
      "[[1, 2, 3], 99]\n"
     ]
    }
   ],
   "source": [
    "del nested[1:4]\n",
    "print(nested)"
   ]
  },
  {
   "cell_type": "code",
   "execution_count": 5,
   "id": "6e49d884",
   "metadata": {},
   "outputs": [],
   "source": [
    "with open('Moons_and_planets.csv', 'r') as f:\n",
    "    lines = f.read().split('\\n')"
   ]
  },
  {
   "cell_type": "code",
   "execution_count": 6,
   "id": "a40caa31",
   "metadata": {},
   "outputs": [],
   "source": [
    "del lines[0]"
   ]
  },
  {
   "cell_type": "code",
   "execution_count": 7,
   "id": "9dd5232c",
   "metadata": {},
   "outputs": [],
   "source": [
    "data_moons = []\n",
    "for line in lines:\n",
    "    data_moons.append(line.split(','))"
   ]
  },
  {
   "cell_type": "code",
   "execution_count": 8,
   "id": "527a7453",
   "metadata": {},
   "outputs": [],
   "source": [
    "mer,ven,ear,mar,jup,sat,ura,nep,plu=[0,0,0,0,0,0,0,0,0]"
   ]
  },
  {
   "cell_type": "code",
   "execution_count": 9,
   "id": "3ef283dc",
   "metadata": {},
   "outputs": [],
   "source": [
    "del data_moons[len(data_moons)-1]"
   ]
  },
  {
   "cell_type": "code",
   "execution_count": 10,
   "id": "33894418",
   "metadata": {},
   "outputs": [
    {
     "name": "stdout",
     "output_type": "stream",
     "text": [
      "0 0 1 2 79 82 27 14 5\n"
     ]
    }
   ],
   "source": [
    "for i in range(len(data_moons)):\n",
    "    if data_moons[i][1] == 'Mercury':\n",
    "        mer = mer + 1\n",
    "    elif data_moons[i][1] == 'Venus':\n",
    "        ven = ven + 1\n",
    "    elif data_moons[i][1] == 'Earth':\n",
    "        ear = ear + 1\n",
    "    elif data_moons[i][1] == 'Mars':\n",
    "        mar = mar + 1\n",
    "    elif data_moons[i][1] == 'Jupiter':\n",
    "        jup = jup + 1\n",
    "    elif data_moons[i][1] == 'Saturn':\n",
    "        sat = sat + 1\n",
    "    elif data_moons[i][1] == 'Uranus':\n",
    "        ura = ura + 1\n",
    "    elif data_moons[i][1] == 'Neptune':\n",
    "        nep = nep + 1\n",
    "    elif data_moons[i][1] == 'Pluto':\n",
    "        plu = plu + 1\n",
    "print(mer,ven,ear,mar,jup,sat,ura,nep,plu)"
   ]
  },
  {
   "cell_type": "code",
   "execution_count": 11,
   "id": "49ee14ed",
   "metadata": {},
   "outputs": [
    {
     "name": "stdout",
     "output_type": "stream",
     "text": [
      "Moon           Planet  Diameter\n",
      "------------------------------\n",
      "Moon           Earth   1737.1\n",
      "Phobos         Mars     11.1\n",
      "Deimos         Mars      6.2\n",
      "Io             Jupiter 1818.1\n",
      "Europa         Jupiter 1560.7\n",
      "Ganymede       Jupiter 2634.1\n",
      "Callisto       Jupiter 2408.4\n",
      "Amalthea       Jupiter  83.5\n",
      "Himalia        Jupiter  67.0\n",
      "Elara          Jupiter  43.0\n",
      "Pasiphae       Jupiter  30.0\n",
      "Sinope         Jupiter  19.0\n",
      "Lysithea       Jupiter  18.0\n",
      "Carme          Jupiter  23.0\n",
      "Ananke         Jupiter  14.0\n",
      "Leda           Jupiter  10.0\n",
      "Thebe          Jupiter  49.3\n",
      "Adrastea       Jupiter   8.2\n",
      "Metis          Jupiter  21.5\n",
      "Callirrhoe     Jupiter   4.3\n",
      "Themisto       Jupiter   4.0\n",
      "Megaclite      Jupiter   2.7\n",
      "Taygete        Jupiter   2.5\n",
      "Chaldene       Jupiter   1.9\n",
      "Harpalyke      Jupiter   2.2\n",
      "Kalyke         Jupiter   2.6\n",
      "Iocaste        Jupiter   2.6\n",
      "Erinome        Jupiter   1.6\n",
      "Isonoe         Jupiter   1.9\n",
      "Praxidike      Jupiter   3.4\n",
      "Autonoe        Jupiter   2.0\n",
      "Thyone         Jupiter   2.0\n",
      "Hermippe       Jupiter   2.0\n",
      "Aitne          Jupiter   1.5\n",
      "Eurydome       Jupiter   1.5\n",
      "Euanthe        Jupiter   1.5\n",
      "Euporie        Jupiter   1.0\n",
      "Orthosie       Jupiter   1.0\n",
      "Sponde         Jupiter   1.0\n",
      "Kale           Jupiter   1.0\n",
      "Pasithee       Jupiter   1.0\n",
      "Hegemone       Jupiter   1.5\n",
      "Mneme          Jupiter   1.0\n",
      "Aoede          Jupiter   2.0\n",
      "Thelxinoe      Jupiter   1.0\n",
      "Arche          Jupiter   1.5\n",
      "Kallichore     Jupiter   1.0\n",
      "Helike         Jupiter   2.0\n",
      "Carpo          Jupiter   1.5\n",
      "Eukelade       Jupiter   2.0\n",
      "Cyllene        Jupiter   1.0\n",
      "Kore           Jupiter   1.0\n",
      "Herse          Jupiter   1.0\n",
      "S/2010 J 1     Jupiter   1.0\n",
      "S/2010 J 2     Jupiter   0.5\n",
      "Dia            Jupiter   2.0\n",
      "S/2016 J 1     Jupiter   3.0\n",
      "S/2003 J 18    Jupiter   1.0\n",
      "S/2011 J 2     Jupiter   0.5\n",
      "Eirene         Jupiter   2.0\n",
      "Philophrosyne  Jupiter   1.0\n",
      "S/2017 J 1     Jupiter   2.0\n",
      "Eupheme        Jupiter   1.0\n",
      "S/2003 J 19    Jupiter   1.0\n",
      "Valetudo       Jupiter   0.5\n",
      "S/2017 J 2     Jupiter   1.0\n",
      "S/2017 J 3     Jupiter   1.0\n",
      "Pandia         Jupiter   1.0\n",
      "S/2017 J 5     Jupiter   1.0\n",
      "S/2017 J 6     Jupiter   1.0\n",
      "S/2017 J 7     Jupiter   1.0\n",
      "S/2017 J 8     Jupiter   0.5\n",
      "S/2017 J 9     Jupiter   1.0\n",
      "Ersa           Jupiter   1.0\n",
      "S/2011 J 1     Jupiter   0.5\n",
      "S/2003 J 2     Jupiter   1.0\n",
      "S/2003 J 4     Jupiter   1.0\n",
      "S/2003 J 9     Jupiter   0.5\n",
      "S/2003 J 10    Jupiter   1.0\n",
      "S/2003 J 12    Jupiter   0.5\n",
      "S/2003 J 16    Jupiter   1.0\n",
      "S/2003 J 23    Jupiter   1.0\n",
      "Mimas          Saturn  198.2\n",
      "Enceladus      Saturn  252.3\n",
      "Tethys         Saturn  536.3\n",
      "Dione          Saturn  562.5\n",
      "Rhea           Saturn  764.5\n",
      "Titan          Saturn  2575.5\n",
      "Hyperion       Saturn  138.6\n",
      "Iapetus        Saturn  734.5\n",
      "Phoebe         Saturn  106.6\n",
      "Janus          Saturn   90.4\n",
      "Epimetheus     Saturn   58.3\n",
      "Helene         Saturn   16.0\n",
      "Telesto        Saturn   12.0\n",
      "Calypso        Saturn    9.5\n",
      "Atlas          Saturn   15.3\n",
      "Prometheus     Saturn   46.8\n",
      "Pandora        Saturn   40.6\n",
      "Pan            Saturn   12.8\n",
      "Ymir           Saturn    9.0\n",
      "Paaliaq        Saturn   11.0\n",
      "Tarvos         Saturn    7.5\n",
      "Ijiraq         Saturn    6.0\n",
      "Suttungr       Saturn    3.5\n",
      "Kiviuq         Saturn    8.0\n",
      "Mundilfari     Saturn    3.5\n",
      "Albiorix       Saturn   16.0\n",
      "Skathi         Saturn    4.0\n",
      "Erriapus       Saturn    5.0\n",
      "Siarnaq        Saturn   20.0\n",
      "Thrymr         Saturn    3.5\n",
      "Narvi          Saturn    3.5\n",
      "Methone        Saturn    1.6\n",
      "Pallene        Saturn    2.0\n",
      "Polydeuces     Saturn   1.25\n",
      "Daphnis        Saturn    3.8\n",
      "Aegir          Saturn    3.0\n",
      "Bebhionn       Saturn    3.0\n",
      "Bergelmir      Saturn    3.0\n",
      "Bestla         Saturn    3.5\n",
      "Farbauti       Saturn    2.5\n",
      "Fenrir         Saturn    2.0\n",
      "Fornjot        Saturn    3.0\n",
      "Hati           Saturn    3.0\n",
      "Hyrrokkin      Saturn    4.0\n",
      "Kari           Saturn    3.5\n",
      "Loge           Saturn    3.0\n",
      "Skoll          Saturn    3.0\n",
      "Surtur         Saturn    3.0\n",
      "Anthe          Saturn    1.0\n",
      "Jarnsaxa       Saturn    3.0\n",
      "Greip          Saturn    3.0\n",
      "Tarqeq         Saturn    3.5\n",
      "Aegaeon        Saturn   0.33\n",
      "S/2004 S 7     Saturn    3.0\n",
      "S/2004 S 12    Saturn    2.5\n",
      "S/2004 S 13    Saturn    3.0\n",
      "S/2004 S 17    Saturn    2.0\n",
      "S/2006 S 1     Saturn    3.0\n",
      "S/2006 S 3     Saturn    3.0\n",
      "S/2007 S 2     Saturn    3.0\n",
      "S/2007 S 3     Saturn    3.0\n",
      "S/2009 S 1     Saturn   0.15\n",
      "S/2004 S 20    Saturn    3.0\n",
      "S/2004 S 21    Saturn    3.0\n",
      "S/2004 S 22    Saturn    3.0\n",
      "S/2004 S 23    Saturn    4.0\n",
      "S/2004 S 24    Saturn    3.0\n",
      "S/2004 S 25    Saturn    4.0\n",
      "S/2004 S 26    Saturn    4.0\n",
      "S/2004 S 27    Saturn    6.0\n",
      "S/2004 S 28    Saturn    4.0\n",
      "S/2004 S 29    Saturn    4.0\n",
      "S/2004 S 30    Saturn    3.0\n",
      "S/2004 S 31    Saturn    4.0\n",
      "S/2004 S 32    Saturn    4.0\n",
      "S/2004 S 33    Saturn    4.0\n",
      "S/2004 S 34    Saturn    3.0\n",
      "S/2004 S 35    Saturn    6.0\n",
      "S/2004 S 36    Saturn    3.0\n",
      "S/2004 S 37    Saturn    4.0\n",
      "S/2004 S 38    Saturn    4.0\n",
      "S/2004 S 39    Saturn    3.0\n",
      "Ariel          Uranus  578.9\n",
      "Umbriel        Uranus  584.7\n",
      "Titania        Uranus  788.9\n",
      "Oberon         Uranus  761.4\n",
      "Miranda        Uranus  235.8\n",
      "Cordelia       Uranus   20.1\n",
      "Ophelia        Uranus   21.4\n",
      "Bianca         Uranus   25.7\n",
      "Cressida       Uranus   39.8\n",
      "Desdemona      Uranus   32.0\n",
      "Juliet         Uranus   46.8\n",
      "Portia         Uranus   67.6\n",
      "Rosalind       Uranus   36.0\n",
      "Belinda        Uranus   40.3\n",
      "Puck           Uranus   81.0\n",
      "Caliban        Uranus   21.0\n",
      "Sycorax        Uranus   78.5\n",
      "Prospero       Uranus   25.0\n",
      "Setebos        Uranus   24.0\n",
      "Stephano       Uranus   10.0\n",
      "Trinculo       Uranus    9.0\n",
      "Francisco      Uranus    6.0\n",
      "Margaret       Uranus    5.5\n",
      "Ferdinand      Uranus    6.0\n",
      "Perdita        Uranus   15.0\n",
      "Mab            Uranus    6.0\n",
      "Cupid          Uranus    9.0\n",
      "Triton         Neptune 1353.4\n",
      "Nereid         Neptune 178.5\n",
      "Naiad          Neptune  33.0\n",
      "Thalassa       Neptune  41.0\n",
      "Despina        Neptune  75.0\n",
      "Galatea        Neptune  88.0\n",
      "Larissa        Neptune  97.0\n",
      "Proteus        Neptune 210.0\n",
      "Halimede       Neptune  31.0\n",
      "Psamathe       Neptune  20.0\n",
      "Sao            Neptune  22.0\n",
      "Laomedeia      Neptune  21.0\n",
      "Neso           Neptune  30.0\n",
      "Hippocamp      Neptune  17.4\n",
      "Charon         Pluto   606.0\n",
      "Nix            Pluto    23.0\n",
      "Hydra          Pluto    30.5\n",
      "Kerberos       Pluto    14.0\n",
      "Styx           Pluto    10.0\n"
     ]
    }
   ],
   "source": [
    "print(\"{:<15}{:<8}{:>5}\".format(\"Moon\", \"Planet\", \"Diameter\"))\n",
    "print(\"-\"*30)\n",
    "for i in data_moons:\n",
    "    print(f\"{i[0]:<15}{i[1]:<8}{i[2]:>5}\")"
   ]
  },
  {
   "cell_type": "code",
   "execution_count": null,
   "id": "ee817ff3",
   "metadata": {},
   "outputs": [],
   "source": []
  }
 ],
 "metadata": {
  "kernelspec": {
   "display_name": "Python 3 (ipykernel)",
   "language": "python",
   "name": "python3"
  },
  "language_info": {
   "codemirror_mode": {
    "name": "ipython",
    "version": 3
   },
   "file_extension": ".py",
   "mimetype": "text/x-python",
   "name": "python",
   "nbconvert_exporter": "python",
   "pygments_lexer": "ipython3",
   "version": "3.9.13"
  }
 },
 "nbformat": 4,
 "nbformat_minor": 5
}
